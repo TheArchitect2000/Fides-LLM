{
  "cells": [
    {
      "cell_type": "markdown",
      "metadata": {
        "id": "wixnYrF5C1tR"
      },
      "source": []
    },
    {
      "cell_type": "code",
      "execution_count": null,
      "metadata": {},
      "outputs": [],
      "source": [
        "#%pip install pyaudio -q\n",
        "%pip install --upgrade pip -q\n",
        "%pip install python-dotenv langchain_openai langchain_community chromadb youtube-transcript-api pytube pypdf web3 -q\n",
        "%pip install youtube-transcript-api bs4 pypdf -q\n",
        "%pip install SpeechRecognition -q \n",
        "%pip install opencv-python -q"
      ]
    },
    {
      "cell_type": "code",
      "execution_count": null,
      "metadata": {},
      "outputs": [],
      "source": [
        "from dotenv import load_dotenv\n",
        "import os\n",
        "from langchain_community.document_loaders import WebBaseLoader, YoutubeLoader, PyPDFLoader\n",
        "from langchain_text_splitters import RecursiveCharacterTextSplitter\n",
        "from pytube import YouTube\n",
        "from web3 import Web3"
      ]
    },
    {
      "cell_type": "code",
      "execution_count": null,
      "metadata": {
        "colab": {
          "base_uri": "https://localhost:8080/"
        },
        "id": "5zks8Zg5EqbY",
        "outputId": "e36477b7-d005-49f4-cb43-72dd0f5f02be"
      },
      "outputs": [],
      "source": [
        "############################# Document instances\n",
        "## Create a crawl to list all the webpages, and then load them here\n",
        "web1 = WebBaseLoader(\"https://www.fidesinnova.io\")\n",
        "web2 = WebBaseLoader(\"https://fidesinnova.io/devices/\")\n",
        "web3 = WebBaseLoader(\"https://fidesinnova.io/Contacts/\")\n",
        "\n",
        "\n",
        "## Adding all repositories\n",
        "git1 = WebBaseLoader(\"https://github.com/TheArchitect2000/iot-server\")\n",
        "git2 = WebBaseLoader(\"https://github.com/TheArchitect2000/zkiot-riscv-qemu-c\")\n",
        "git3 = WebBaseLoader(\"https://github.com/TheArchitect2000/Fides-Innova-WiKi\")\n",
        "\n",
        "\n",
        "## Addming all PDfs\n",
        "pdf1 = PyPDFLoader(\"zkIoT.pdf\")\n",
        "\n",
        "## Adding all YouTube videos\n",
        "video1 = YoutubeLoader(\"kgYxyxeDNl4\")\n",
        "video2 = YoutubeLoader(\"VZMBE2NLSC4\")\n",
        "video3 = YoutubeLoader(\"YpfFHI3Ivmo\")\n",
        "\n",
        "\n",
        "## Fides Blockchain\n",
        "rpc_url = \"https://rpc1.fidesinnova.io\"\n",
        "w3 = Web3(Web3.HTTPProvider(rpc_url))\n",
        "\n",
        "if w3.is_connected():\n",
        "    print(\"✅ Connected to FidesInnova Blockchain!\")\n",
        "    print(\"Latest block:\", w3.eth.block_number)\n",
        "else:\n",
        "    print(\"❌ Connection failed.\")\n",
        "\n",
        "contract_address = Web3.to_checksum_address(\"0x4b08ea934e6bfb7c72a376c842c911e1dd2aa74f\")\n",
        "with open(\"NodeServiceDeviceManagement.abi\") as f1:\n",
        "   abi =  f1.read() # Smart contract ABI\n",
        "\n",
        "contract = w3.eth.contract(address=contract_address, abi=abi)\n",
        "\n",
        "#sensor_data = contract.functions.getSensorData(sensor_id).call()\n",
        "\n",
        "############################# Loading\n",
        "loaders = [web1, web2, web3, git1, git2, git3, pdf1, video1, video2, video3]\n",
        "\n",
        "docs = []\n",
        "for loader in loaders:\n",
        "    loaded_docs = loader.load()\n",
        "    for doc in loaded_docs:\n",
        "        if isinstance(loader, YoutubeLoader):\n",
        "            doc.metadata['type'] = 'YouTube'\n",
        "        elif isinstance(loader, PyPDFLoader):\n",
        "            doc.metadata['type'] = 'PDF'\n",
        "        elif isinstance(loader, WebBaseLoader):\n",
        "            doc.metadata['type'] = 'Web'\n",
        "        else:\n",
        "            doc.metadata['type'] = 'Other'\n",
        "        print(doc.metadata)\n",
        "        docs.append(doc)"
      ]
    },
    {
      "cell_type": "code",
      "execution_count": null,
      "metadata": {},
      "outputs": [],
      "source": [
        "############################# split the documents\n",
        "splitter1 = RecursiveCharacterTextSplitter(chunk_size=500, chunk_overlap=50)\n",
        "totaldoc2 = splitter1.split_documents(docs)\n",
        "\n",
        "############################# Creating Vector database\n",
        "from langchain_community.vectorstores import Chroma\n",
        "from langchain_openai import OpenAIEmbeddings\n",
        "\n",
        "#######################\n",
        "from dotenv import load_dotenv\n",
        "import os\n",
        "\n",
        "# Load environment variables from .env file\n",
        "load_dotenv()\n",
        "\n",
        "# Get the API key\n",
        "api_key1 = os.getenv(\"API_KEY1\")\n",
        "\n",
        "# Use the API key\n",
        "print(f\"Using API Key: {api_key1}\")\n",
        "#######################\n",
        "\n",
        "embedding1 = OpenAIEmbeddings(model=\"text-embedding-3-large\", api_key=api_key1)\n",
        "\n",
        "# on RAM memory\n",
        "#mydb1 = Chroma.from_documents(totaldoc2, embedding=embedding1) \n",
        "# on storage\n",
        "mydb1 = Chroma(\n",
        "    collection_name=\"example_collection\",\n",
        "    embedding_function=embedding1,\n",
        "    persist_directory=\"chroma_langchain_db\",  # Where to save data locally, remove if not necessary\n",
        ")\n",
        "\n",
        "mydb1.add_documents(totaldoc2)"
      ]
    },
    {
      "cell_type": "code",
      "execution_count": null,
      "metadata": {},
      "outputs": [],
      "source": [
        "# with open(\"a.txt\",\"w\") as f1:\n",
        "#     f1.write(web1.load()[0].page_content)"
      ]
    }
  ],
  "metadata": {
    "colab": {
      "provenance": []
    },
    "kernelspec": {
      "display_name": "Python 3",
      "name": "python3"
    },
    "language_info": {
      "codemirror_mode": {
        "name": "ipython",
        "version": 3
      },
      "file_extension": ".py",
      "mimetype": "text/x-python",
      "name": "python",
      "nbconvert_exporter": "python",
      "pygments_lexer": "ipython3",
      "version": "3.10.17"
    }
  },
  "nbformat": 4,
  "nbformat_minor": 0
}
